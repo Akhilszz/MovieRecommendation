{
  "cells": [
    {
      "cell_type": "code",
      "execution_count": 2,
      "metadata": {
        "id": "D_uMk5DDrdRZ"
      },
      "outputs": [],
      "source": [
        "import pandas as pd\n",
        "import numpy as np\n",
        "from sklearn.metrics.pairwise import cosine_similarity\n",
        "from sklearn.feature_extraction.text import TfidfVectorizer\n",
        "import pickle\n"
      ]
    },
    {
      "cell_type": "code",
      "execution_count": 3,
      "metadata": {
        "colab": {
          "base_uri": "https://localhost:8080/",
          "height": 597
        },
        "id": "gFIiafGBrqoC",
        "outputId": "5c56fb03-a63b-4a33-8798-6be8a2c74afb"
      },
      "outputs": [
        {
          "data": {
            "text/html": [
              "<div>\n",
              "<style scoped>\n",
              "    .dataframe tbody tr th:only-of-type {\n",
              "        vertical-align: middle;\n",
              "    }\n",
              "\n",
              "    .dataframe tbody tr th {\n",
              "        vertical-align: top;\n",
              "    }\n",
              "\n",
              "    .dataframe thead th {\n",
              "        text-align: right;\n",
              "    }\n",
              "</style>\n",
              "<table border=\"1\" class=\"dataframe\">\n",
              "  <thead>\n",
              "    <tr style=\"text-align: right;\">\n",
              "      <th></th>\n",
              "      <th>id</th>\n",
              "      <th>title</th>\n",
              "      <th>genre</th>\n",
              "      <th>original_language</th>\n",
              "      <th>overview</th>\n",
              "      <th>popularity</th>\n",
              "      <th>release_date</th>\n",
              "      <th>vote_average</th>\n",
              "      <th>vote_count</th>\n",
              "    </tr>\n",
              "  </thead>\n",
              "  <tbody>\n",
              "    <tr>\n",
              "      <th>0</th>\n",
              "      <td>278</td>\n",
              "      <td>The Shawshank Redemption</td>\n",
              "      <td>Drama,Crime</td>\n",
              "      <td>en</td>\n",
              "      <td>Framed in the 1940s for the double murder of h...</td>\n",
              "      <td>94.075</td>\n",
              "      <td>1994-09-23</td>\n",
              "      <td>8.7</td>\n",
              "      <td>21862</td>\n",
              "    </tr>\n",
              "    <tr>\n",
              "      <th>1</th>\n",
              "      <td>19404</td>\n",
              "      <td>Dilwale Dulhania Le Jayenge</td>\n",
              "      <td>Comedy,Drama,Romance</td>\n",
              "      <td>hi</td>\n",
              "      <td>Raj is a rich, carefree, happy-go-lucky second...</td>\n",
              "      <td>25.408</td>\n",
              "      <td>1995-10-19</td>\n",
              "      <td>8.7</td>\n",
              "      <td>3731</td>\n",
              "    </tr>\n",
              "    <tr>\n",
              "      <th>2</th>\n",
              "      <td>238</td>\n",
              "      <td>The Godfather</td>\n",
              "      <td>Drama,Crime</td>\n",
              "      <td>en</td>\n",
              "      <td>Spanning the years 1945 to 1955, a chronicle o...</td>\n",
              "      <td>90.585</td>\n",
              "      <td>1972-03-14</td>\n",
              "      <td>8.7</td>\n",
              "      <td>16280</td>\n",
              "    </tr>\n",
              "    <tr>\n",
              "      <th>3</th>\n",
              "      <td>424</td>\n",
              "      <td>Schindler's List</td>\n",
              "      <td>Drama,History,War</td>\n",
              "      <td>en</td>\n",
              "      <td>The true story of how businessman Oskar Schind...</td>\n",
              "      <td>44.761</td>\n",
              "      <td>1993-12-15</td>\n",
              "      <td>8.6</td>\n",
              "      <td>12959</td>\n",
              "    </tr>\n",
              "    <tr>\n",
              "      <th>4</th>\n",
              "      <td>240</td>\n",
              "      <td>The Godfather: Part II</td>\n",
              "      <td>Drama,Crime</td>\n",
              "      <td>en</td>\n",
              "      <td>In the continuing saga of the Corleone crime f...</td>\n",
              "      <td>57.749</td>\n",
              "      <td>1974-12-20</td>\n",
              "      <td>8.6</td>\n",
              "      <td>9811</td>\n",
              "    </tr>\n",
              "    <tr>\n",
              "      <th>...</th>\n",
              "      <td>...</td>\n",
              "      <td>...</td>\n",
              "      <td>...</td>\n",
              "      <td>...</td>\n",
              "      <td>...</td>\n",
              "      <td>...</td>\n",
              "      <td>...</td>\n",
              "      <td>...</td>\n",
              "      <td>...</td>\n",
              "    </tr>\n",
              "    <tr>\n",
              "      <th>9995</th>\n",
              "      <td>10196</td>\n",
              "      <td>The Last Airbender</td>\n",
              "      <td>Action,Adventure,Fantasy</td>\n",
              "      <td>en</td>\n",
              "      <td>The story follows the adventures of Aang, a yo...</td>\n",
              "      <td>98.322</td>\n",
              "      <td>2010-06-30</td>\n",
              "      <td>4.7</td>\n",
              "      <td>3347</td>\n",
              "    </tr>\n",
              "    <tr>\n",
              "      <th>9996</th>\n",
              "      <td>331446</td>\n",
              "      <td>Sharknado 3: Oh Hell No!</td>\n",
              "      <td>Action,TV Movie,Science Fiction,Comedy,Adventure</td>\n",
              "      <td>en</td>\n",
              "      <td>The sharks take bite out of the East Coast whe...</td>\n",
              "      <td>12.490</td>\n",
              "      <td>2015-07-22</td>\n",
              "      <td>4.7</td>\n",
              "      <td>417</td>\n",
              "    </tr>\n",
              "    <tr>\n",
              "      <th>9997</th>\n",
              "      <td>13995</td>\n",
              "      <td>Captain America</td>\n",
              "      <td>Action,Science Fiction,War</td>\n",
              "      <td>en</td>\n",
              "      <td>During World War II, a brave, patriotic Americ...</td>\n",
              "      <td>18.333</td>\n",
              "      <td>1990-12-14</td>\n",
              "      <td>4.6</td>\n",
              "      <td>332</td>\n",
              "    </tr>\n",
              "    <tr>\n",
              "      <th>9998</th>\n",
              "      <td>2312</td>\n",
              "      <td>In the Name of the King: A Dungeon Siege Tale</td>\n",
              "      <td>Adventure,Fantasy,Action,Drama</td>\n",
              "      <td>en</td>\n",
              "      <td>A man named Farmer sets out to rescue his kidn...</td>\n",
              "      <td>15.159</td>\n",
              "      <td>2007-11-29</td>\n",
              "      <td>4.7</td>\n",
              "      <td>668</td>\n",
              "    </tr>\n",
              "    <tr>\n",
              "      <th>9999</th>\n",
              "      <td>455957</td>\n",
              "      <td>Domino</td>\n",
              "      <td>Thriller,Action,Crime</td>\n",
              "      <td>en</td>\n",
              "      <td>Seeking justice for his partner’s murder by an...</td>\n",
              "      <td>16.482</td>\n",
              "      <td>2019-05-31</td>\n",
              "      <td>4.6</td>\n",
              "      <td>221</td>\n",
              "    </tr>\n",
              "  </tbody>\n",
              "</table>\n",
              "<p>10000 rows × 9 columns</p>\n",
              "</div>"
            ],
            "text/plain": [
              "          id                                          title  \\\n",
              "0        278                       The Shawshank Redemption   \n",
              "1      19404                    Dilwale Dulhania Le Jayenge   \n",
              "2        238                                  The Godfather   \n",
              "3        424                               Schindler's List   \n",
              "4        240                         The Godfather: Part II   \n",
              "...      ...                                            ...   \n",
              "9995   10196                             The Last Airbender   \n",
              "9996  331446                       Sharknado 3: Oh Hell No!   \n",
              "9997   13995                                Captain America   \n",
              "9998    2312  In the Name of the King: A Dungeon Siege Tale   \n",
              "9999  455957                                         Domino   \n",
              "\n",
              "                                                 genre original_language  \\\n",
              "0                                          Drama,Crime                en   \n",
              "1                                 Comedy,Drama,Romance                hi   \n",
              "2                                          Drama,Crime                en   \n",
              "3                                    Drama,History,War                en   \n",
              "4                                          Drama,Crime                en   \n",
              "...                                                ...               ...   \n",
              "9995                          Action,Adventure,Fantasy                en   \n",
              "9996  Action,TV Movie,Science Fiction,Comedy,Adventure                en   \n",
              "9997                        Action,Science Fiction,War                en   \n",
              "9998                    Adventure,Fantasy,Action,Drama                en   \n",
              "9999                             Thriller,Action,Crime                en   \n",
              "\n",
              "                                               overview  popularity  \\\n",
              "0     Framed in the 1940s for the double murder of h...      94.075   \n",
              "1     Raj is a rich, carefree, happy-go-lucky second...      25.408   \n",
              "2     Spanning the years 1945 to 1955, a chronicle o...      90.585   \n",
              "3     The true story of how businessman Oskar Schind...      44.761   \n",
              "4     In the continuing saga of the Corleone crime f...      57.749   \n",
              "...                                                 ...         ...   \n",
              "9995  The story follows the adventures of Aang, a yo...      98.322   \n",
              "9996  The sharks take bite out of the East Coast whe...      12.490   \n",
              "9997  During World War II, a brave, patriotic Americ...      18.333   \n",
              "9998  A man named Farmer sets out to rescue his kidn...      15.159   \n",
              "9999  Seeking justice for his partner’s murder by an...      16.482   \n",
              "\n",
              "     release_date  vote_average  vote_count  \n",
              "0      1994-09-23           8.7       21862  \n",
              "1      1995-10-19           8.7        3731  \n",
              "2      1972-03-14           8.7       16280  \n",
              "3      1993-12-15           8.6       12959  \n",
              "4      1974-12-20           8.6        9811  \n",
              "...           ...           ...         ...  \n",
              "9995   2010-06-30           4.7        3347  \n",
              "9996   2015-07-22           4.7         417  \n",
              "9997   1990-12-14           4.6         332  \n",
              "9998   2007-11-29           4.7         668  \n",
              "9999   2019-05-31           4.6         221  \n",
              "\n",
              "[10000 rows x 9 columns]"
            ]
          },
          "execution_count": 3,
          "metadata": {},
          "output_type": "execute_result"
        }
      ],
      "source": [
        "data=pd.read_csv('top10K-TMDB-movies.csv')\n",
        "df=pd.DataFrame(data)\n",
        "df"
      ]
    },
    {
      "cell_type": "code",
      "execution_count": 4,
      "metadata": {
        "colab": {
          "base_uri": "https://localhost:8080/"
        },
        "id": "zkWecPhxsLFY",
        "outputId": "f35427b8-900f-41fd-f402-4a10af27bd3c"
      },
      "outputs": [
        {
          "data": {
            "text/plain": [
              "id                    0\n",
              "title                 0\n",
              "genre                 3\n",
              "original_language     0\n",
              "overview             13\n",
              "popularity            0\n",
              "release_date          0\n",
              "vote_average          0\n",
              "vote_count            0\n",
              "dtype: int64"
            ]
          },
          "execution_count": 4,
          "metadata": {},
          "output_type": "execute_result"
        }
      ],
      "source": [
        "df.isna().sum()"
      ]
    },
    {
      "cell_type": "code",
      "execution_count": 5,
      "metadata": {
        "colab": {
          "base_uri": "https://localhost:8080/"
        },
        "id": "A3hJtIjZsqCD",
        "outputId": "9f20fe96-2a2e-45af-d9c7-ce41e171ef1a"
      },
      "outputs": [
        {
          "name": "stdout",
          "output_type": "stream",
          "text": [
            "         id                    title genre original_language  \\\n",
            "3361  50472     Anplagghed al cinema   NaN                it   \n",
            "7821  43211        7 Kilos in 7 Days   NaN                it   \n",
            "8518  57114  Amore, bugie e calcetto   NaN                en   \n",
            "\n",
            "                                               overview  popularity  \\\n",
            "3361  A queue at the ATM machine, a displaced family...       4.420   \n",
            "7821  Two not very clever young doctors open a fitne...       5.885   \n",
            "8518                                                NaN       4.709   \n",
            "\n",
            "     release_date  vote_average  vote_count  \n",
            "3361   2006-11-26           7.0         313  \n",
            "7821   1986-02-02           6.0         212  \n",
            "8518   2008-04-04           5.8         200  \n"
          ]
        }
      ],
      "source": [
        "null_rows = df[df['genre'].isnull()]\n",
        "print(null_rows)"
      ]
    },
    {
      "cell_type": "code",
      "execution_count": 6,
      "metadata": {
        "id": "_xUlG714tVnX"
      },
      "outputs": [],
      "source": [
        "df['genre'] = df['genre'].fillna('Action,Drama\t')"
      ]
    },
    {
      "cell_type": "code",
      "execution_count": 7,
      "metadata": {
        "colab": {
          "base_uri": "https://localhost:8080/"
        },
        "id": "g3mputuitiIf",
        "outputId": "158a7868-770b-4ca0-af0d-a272f0c0678a"
      },
      "outputs": [
        {
          "data": {
            "text/plain": [
              "0"
            ]
          },
          "execution_count": 7,
          "metadata": {},
          "output_type": "execute_result"
        }
      ],
      "source": [
        "df['genre'] .isna().sum()"
      ]
    },
    {
      "cell_type": "code",
      "execution_count": 8,
      "metadata": {
        "colab": {
          "base_uri": "https://localhost:8080/"
        },
        "id": "Djh5RPWxtpn_",
        "outputId": "d0fa7869-ce5d-4b31-8b5a-089562594b90"
      },
      "outputs": [
        {
          "name": "stdout",
          "output_type": "stream",
          "text": [
            "          id                                      title           genre  \\\n",
            "4150   38537                               Nati stanchi          Comedy   \n",
            "6973   31359                      Would I Lie to You? 2          Comedy   \n",
            "7941    2029                                     Tanguy          Comedy   \n",
            "8518   57114                    Amore, bugie e calcetto  Action,Drama\\t   \n",
            "9293   17413                                  Incognito          Comedy   \n",
            "9440  516043                            Arrivano i prof          Comedy   \n",
            "9620  154512                           Lightning Strike          Comedy   \n",
            "9792   42426  A spasso nel tempo - L'avventura continua  Comedy,Fantasy   \n",
            "9825   77000                                  Bar Sport   Comedy,Family   \n",
            "9889   42436                         Natale in crociera          Comedy   \n",
            "9915   57216                          A Natale mi sposo          Comedy   \n",
            "9922  408238           The New Adventures of Cinderella          Comedy   \n",
            "9989  244514                           Colpi di fortuna          Comedy   \n",
            "\n",
            "     original_language overview  popularity release_date  vote_average  \\\n",
            "4150                it      NaN       5.671   2002-03-01           6.8   \n",
            "6973                fr      NaN       4.741   2001-02-07           6.2   \n",
            "7941                fr      NaN       5.449   2001-11-21           6.0   \n",
            "8518                en      NaN       4.709   2008-04-04           5.8   \n",
            "9293                fr      NaN       5.602   2009-04-28           5.5   \n",
            "9440                it      NaN       6.558   2018-05-01           5.4   \n",
            "9620                it      NaN       4.070   2012-12-13           5.3   \n",
            "9792                it      NaN       5.020   1997-12-11           5.1   \n",
            "9825                it      NaN       4.123   2011-10-21           5.0   \n",
            "9889                it      NaN       5.330   2007-12-14           4.9   \n",
            "9915                it      NaN       4.349   2010-11-26           4.9   \n",
            "9922                fr      NaN       7.102   2017-10-18           4.8   \n",
            "9989                it      NaN       5.821   2013-12-21           4.7   \n",
            "\n",
            "      vote_count  \n",
            "4150         211  \n",
            "6973         325  \n",
            "7941         387  \n",
            "8518         200  \n",
            "9293         213  \n",
            "9440         337  \n",
            "9620         216  \n",
            "9792         209  \n",
            "9825         205  \n",
            "9889         364  \n",
            "9915         202  \n",
            "9922         227  \n",
            "9989         214  \n"
          ]
        }
      ],
      "source": [
        "null_rows = df[df['overview'].isnull()]\n",
        "print(null_rows)"
      ]
    },
    {
      "cell_type": "code",
      "execution_count": 9,
      "metadata": {
        "id": "ZwiZekziuDne"
      },
      "outputs": [],
      "source": [
        "df['overview'] = df['overview'].fillna('An uproarious comedy-drama unfolds as a tight-knit community navigates love, laughter, and unexpected twists in Harmonyville')"
      ]
    },
    {
      "cell_type": "code",
      "execution_count": 10,
      "metadata": {
        "colab": {
          "base_uri": "https://localhost:8080/"
        },
        "id": "UmpeGkjXufNY",
        "outputId": "85d4d7ad-1ce7-441b-e04d-83df545a8e1a"
      },
      "outputs": [
        {
          "data": {
            "text/plain": [
              "0"
            ]
          },
          "execution_count": 10,
          "metadata": {},
          "output_type": "execute_result"
        }
      ],
      "source": [
        "df['overview'] .isna().sum()"
      ]
    },
    {
      "cell_type": "code",
      "execution_count": 11,
      "metadata": {
        "colab": {
          "base_uri": "https://localhost:8080/"
        },
        "id": "YpVp59FVufUu",
        "outputId": "5d7204d1-ef40-494d-e83e-b4a4d081e2c9"
      },
      "outputs": [
        {
          "data": {
            "text/plain": [
              "Index(['id', 'title', 'genre', 'original_language', 'overview', 'popularity',\n",
              "       'release_date', 'vote_average', 'vote_count'],\n",
              "      dtype='object')"
            ]
          },
          "execution_count": 11,
          "metadata": {},
          "output_type": "execute_result"
        }
      ],
      "source": [
        "df.columns"
      ]
    },
    {
      "cell_type": "code",
      "execution_count": 12,
      "metadata": {
        "id": "iJyTufdQvFV6"
      },
      "outputs": [],
      "source": [
        "movies=df[['id','title','genre','overview','release_date']]"
      ]
    },
    {
      "cell_type": "code",
      "execution_count": 13,
      "metadata": {
        "colab": {
          "base_uri": "https://localhost:8080/"
        },
        "id": "QENpEiHtEF0N",
        "outputId": "00305ab2-96db-4614-a19b-82b231a5d4a1"
      },
      "outputs": [
        {
          "name": "stderr",
          "output_type": "stream",
          "text": [
            "C:\\Users\\akhil\\AppData\\Local\\Temp\\ipykernel_9144\\2571805512.py:1: SettingWithCopyWarning: \n",
            "A value is trying to be set on a copy of a slice from a DataFrame.\n",
            "Try using .loc[row_indexer,col_indexer] = value instead\n",
            "\n",
            "See the caveats in the documentation: https://pandas.pydata.org/pandas-docs/stable/user_guide/indexing.html#returning-a-view-versus-a-copy\n",
            "  movies['release_date'] = movies['release_date'].str[:4]\n"
          ]
        }
      ],
      "source": [
        "movies['release_date'] = movies['release_date'].str[:4]"
      ]
    },
    {
      "cell_type": "code",
      "execution_count": 14,
      "metadata": {
        "colab": {
          "base_uri": "https://localhost:8080/",
          "height": 423
        },
        "id": "4ck0Tx1Sve6a",
        "outputId": "0511ae6c-561a-4463-d926-6a45f38dde1c"
      },
      "outputs": [
        {
          "data": {
            "text/html": [
              "<div>\n",
              "<style scoped>\n",
              "    .dataframe tbody tr th:only-of-type {\n",
              "        vertical-align: middle;\n",
              "    }\n",
              "\n",
              "    .dataframe tbody tr th {\n",
              "        vertical-align: top;\n",
              "    }\n",
              "\n",
              "    .dataframe thead th {\n",
              "        text-align: right;\n",
              "    }\n",
              "</style>\n",
              "<table border=\"1\" class=\"dataframe\">\n",
              "  <thead>\n",
              "    <tr style=\"text-align: right;\">\n",
              "      <th></th>\n",
              "      <th>id</th>\n",
              "      <th>title</th>\n",
              "      <th>genre</th>\n",
              "      <th>overview</th>\n",
              "      <th>release_date</th>\n",
              "    </tr>\n",
              "  </thead>\n",
              "  <tbody>\n",
              "    <tr>\n",
              "      <th>0</th>\n",
              "      <td>278</td>\n",
              "      <td>The Shawshank Redemption</td>\n",
              "      <td>Drama,Crime</td>\n",
              "      <td>Framed in the 1940s for the double murder of h...</td>\n",
              "      <td>1994</td>\n",
              "    </tr>\n",
              "    <tr>\n",
              "      <th>1</th>\n",
              "      <td>19404</td>\n",
              "      <td>Dilwale Dulhania Le Jayenge</td>\n",
              "      <td>Comedy,Drama,Romance</td>\n",
              "      <td>Raj is a rich, carefree, happy-go-lucky second...</td>\n",
              "      <td>1995</td>\n",
              "    </tr>\n",
              "    <tr>\n",
              "      <th>2</th>\n",
              "      <td>238</td>\n",
              "      <td>The Godfather</td>\n",
              "      <td>Drama,Crime</td>\n",
              "      <td>Spanning the years 1945 to 1955, a chronicle o...</td>\n",
              "      <td>1972</td>\n",
              "    </tr>\n",
              "    <tr>\n",
              "      <th>3</th>\n",
              "      <td>424</td>\n",
              "      <td>Schindler's List</td>\n",
              "      <td>Drama,History,War</td>\n",
              "      <td>The true story of how businessman Oskar Schind...</td>\n",
              "      <td>1993</td>\n",
              "    </tr>\n",
              "    <tr>\n",
              "      <th>4</th>\n",
              "      <td>240</td>\n",
              "      <td>The Godfather: Part II</td>\n",
              "      <td>Drama,Crime</td>\n",
              "      <td>In the continuing saga of the Corleone crime f...</td>\n",
              "      <td>1974</td>\n",
              "    </tr>\n",
              "    <tr>\n",
              "      <th>...</th>\n",
              "      <td>...</td>\n",
              "      <td>...</td>\n",
              "      <td>...</td>\n",
              "      <td>...</td>\n",
              "      <td>...</td>\n",
              "    </tr>\n",
              "    <tr>\n",
              "      <th>9995</th>\n",
              "      <td>10196</td>\n",
              "      <td>The Last Airbender</td>\n",
              "      <td>Action,Adventure,Fantasy</td>\n",
              "      <td>The story follows the adventures of Aang, a yo...</td>\n",
              "      <td>2010</td>\n",
              "    </tr>\n",
              "    <tr>\n",
              "      <th>9996</th>\n",
              "      <td>331446</td>\n",
              "      <td>Sharknado 3: Oh Hell No!</td>\n",
              "      <td>Action,TV Movie,Science Fiction,Comedy,Adventure</td>\n",
              "      <td>The sharks take bite out of the East Coast whe...</td>\n",
              "      <td>2015</td>\n",
              "    </tr>\n",
              "    <tr>\n",
              "      <th>9997</th>\n",
              "      <td>13995</td>\n",
              "      <td>Captain America</td>\n",
              "      <td>Action,Science Fiction,War</td>\n",
              "      <td>During World War II, a brave, patriotic Americ...</td>\n",
              "      <td>1990</td>\n",
              "    </tr>\n",
              "    <tr>\n",
              "      <th>9998</th>\n",
              "      <td>2312</td>\n",
              "      <td>In the Name of the King: A Dungeon Siege Tale</td>\n",
              "      <td>Adventure,Fantasy,Action,Drama</td>\n",
              "      <td>A man named Farmer sets out to rescue his kidn...</td>\n",
              "      <td>2007</td>\n",
              "    </tr>\n",
              "    <tr>\n",
              "      <th>9999</th>\n",
              "      <td>455957</td>\n",
              "      <td>Domino</td>\n",
              "      <td>Thriller,Action,Crime</td>\n",
              "      <td>Seeking justice for his partner’s murder by an...</td>\n",
              "      <td>2019</td>\n",
              "    </tr>\n",
              "  </tbody>\n",
              "</table>\n",
              "<p>10000 rows × 5 columns</p>\n",
              "</div>"
            ],
            "text/plain": [
              "          id                                          title  \\\n",
              "0        278                       The Shawshank Redemption   \n",
              "1      19404                    Dilwale Dulhania Le Jayenge   \n",
              "2        238                                  The Godfather   \n",
              "3        424                               Schindler's List   \n",
              "4        240                         The Godfather: Part II   \n",
              "...      ...                                            ...   \n",
              "9995   10196                             The Last Airbender   \n",
              "9996  331446                       Sharknado 3: Oh Hell No!   \n",
              "9997   13995                                Captain America   \n",
              "9998    2312  In the Name of the King: A Dungeon Siege Tale   \n",
              "9999  455957                                         Domino   \n",
              "\n",
              "                                                 genre  \\\n",
              "0                                          Drama,Crime   \n",
              "1                                 Comedy,Drama,Romance   \n",
              "2                                          Drama,Crime   \n",
              "3                                    Drama,History,War   \n",
              "4                                          Drama,Crime   \n",
              "...                                                ...   \n",
              "9995                          Action,Adventure,Fantasy   \n",
              "9996  Action,TV Movie,Science Fiction,Comedy,Adventure   \n",
              "9997                        Action,Science Fiction,War   \n",
              "9998                    Adventure,Fantasy,Action,Drama   \n",
              "9999                             Thriller,Action,Crime   \n",
              "\n",
              "                                               overview release_date  \n",
              "0     Framed in the 1940s for the double murder of h...         1994  \n",
              "1     Raj is a rich, carefree, happy-go-lucky second...         1995  \n",
              "2     Spanning the years 1945 to 1955, a chronicle o...         1972  \n",
              "3     The true story of how businessman Oskar Schind...         1993  \n",
              "4     In the continuing saga of the Corleone crime f...         1974  \n",
              "...                                                 ...          ...  \n",
              "9995  The story follows the adventures of Aang, a yo...         2010  \n",
              "9996  The sharks take bite out of the East Coast whe...         2015  \n",
              "9997  During World War II, a brave, patriotic Americ...         1990  \n",
              "9998  A man named Farmer sets out to rescue his kidn...         2007  \n",
              "9999  Seeking justice for his partner’s murder by an...         2019  \n",
              "\n",
              "[10000 rows x 5 columns]"
            ]
          },
          "execution_count": 14,
          "metadata": {},
          "output_type": "execute_result"
        }
      ],
      "source": [
        "movies"
      ]
    },
    {
      "cell_type": "code",
      "execution_count": 15,
      "metadata": {
        "colab": {
          "base_uri": "https://localhost:8080/"
        },
        "id": "ZZCnFEPovkSA",
        "outputId": "fa6d44e2-997a-4416-9c61-4fcbe2fbdbe2"
      },
      "outputs": [
        {
          "name": "stderr",
          "output_type": "stream",
          "text": [
            "C:\\Users\\akhil\\AppData\\Local\\Temp\\ipykernel_9144\\1618478180.py:1: SettingWithCopyWarning: \n",
            "A value is trying to be set on a copy of a slice from a DataFrame.\n",
            "Try using .loc[row_indexer,col_indexer] = value instead\n",
            "\n",
            "See the caveats in the documentation: https://pandas.pydata.org/pandas-docs/stable/user_guide/indexing.html#returning-a-view-versus-a-copy\n",
            "  movies['tags'] = movies['genre'] + ' ' + movies['overview']\n"
          ]
        }
      ],
      "source": [
        "movies['tags'] = movies['genre'] + ' ' + movies['overview']"
      ]
    },
    {
      "cell_type": "code",
      "execution_count": 16,
      "metadata": {
        "colab": {
          "base_uri": "https://localhost:8080/",
          "height": 423
        },
        "id": "ul3T4LhMwOCa",
        "outputId": "a3145b50-1f0f-4670-9eb4-8b7b107d08c6"
      },
      "outputs": [
        {
          "data": {
            "text/html": [
              "<div>\n",
              "<style scoped>\n",
              "    .dataframe tbody tr th:only-of-type {\n",
              "        vertical-align: middle;\n",
              "    }\n",
              "\n",
              "    .dataframe tbody tr th {\n",
              "        vertical-align: top;\n",
              "    }\n",
              "\n",
              "    .dataframe thead th {\n",
              "        text-align: right;\n",
              "    }\n",
              "</style>\n",
              "<table border=\"1\" class=\"dataframe\">\n",
              "  <thead>\n",
              "    <tr style=\"text-align: right;\">\n",
              "      <th></th>\n",
              "      <th>id</th>\n",
              "      <th>title</th>\n",
              "      <th>genre</th>\n",
              "      <th>overview</th>\n",
              "      <th>release_date</th>\n",
              "      <th>tags</th>\n",
              "    </tr>\n",
              "  </thead>\n",
              "  <tbody>\n",
              "    <tr>\n",
              "      <th>0</th>\n",
              "      <td>278</td>\n",
              "      <td>The Shawshank Redemption</td>\n",
              "      <td>Drama,Crime</td>\n",
              "      <td>Framed in the 1940s for the double murder of h...</td>\n",
              "      <td>1994</td>\n",
              "      <td>Drama,Crime Framed in the 1940s for the double...</td>\n",
              "    </tr>\n",
              "    <tr>\n",
              "      <th>1</th>\n",
              "      <td>19404</td>\n",
              "      <td>Dilwale Dulhania Le Jayenge</td>\n",
              "      <td>Comedy,Drama,Romance</td>\n",
              "      <td>Raj is a rich, carefree, happy-go-lucky second...</td>\n",
              "      <td>1995</td>\n",
              "      <td>Comedy,Drama,Romance Raj is a rich, carefree, ...</td>\n",
              "    </tr>\n",
              "    <tr>\n",
              "      <th>2</th>\n",
              "      <td>238</td>\n",
              "      <td>The Godfather</td>\n",
              "      <td>Drama,Crime</td>\n",
              "      <td>Spanning the years 1945 to 1955, a chronicle o...</td>\n",
              "      <td>1972</td>\n",
              "      <td>Drama,Crime Spanning the years 1945 to 1955, a...</td>\n",
              "    </tr>\n",
              "    <tr>\n",
              "      <th>3</th>\n",
              "      <td>424</td>\n",
              "      <td>Schindler's List</td>\n",
              "      <td>Drama,History,War</td>\n",
              "      <td>The true story of how businessman Oskar Schind...</td>\n",
              "      <td>1993</td>\n",
              "      <td>Drama,History,War The true story of how busine...</td>\n",
              "    </tr>\n",
              "    <tr>\n",
              "      <th>4</th>\n",
              "      <td>240</td>\n",
              "      <td>The Godfather: Part II</td>\n",
              "      <td>Drama,Crime</td>\n",
              "      <td>In the continuing saga of the Corleone crime f...</td>\n",
              "      <td>1974</td>\n",
              "      <td>Drama,Crime In the continuing saga of the Corl...</td>\n",
              "    </tr>\n",
              "    <tr>\n",
              "      <th>...</th>\n",
              "      <td>...</td>\n",
              "      <td>...</td>\n",
              "      <td>...</td>\n",
              "      <td>...</td>\n",
              "      <td>...</td>\n",
              "      <td>...</td>\n",
              "    </tr>\n",
              "    <tr>\n",
              "      <th>9995</th>\n",
              "      <td>10196</td>\n",
              "      <td>The Last Airbender</td>\n",
              "      <td>Action,Adventure,Fantasy</td>\n",
              "      <td>The story follows the adventures of Aang, a yo...</td>\n",
              "      <td>2010</td>\n",
              "      <td>Action,Adventure,Fantasy The story follows the...</td>\n",
              "    </tr>\n",
              "    <tr>\n",
              "      <th>9996</th>\n",
              "      <td>331446</td>\n",
              "      <td>Sharknado 3: Oh Hell No!</td>\n",
              "      <td>Action,TV Movie,Science Fiction,Comedy,Adventure</td>\n",
              "      <td>The sharks take bite out of the East Coast whe...</td>\n",
              "      <td>2015</td>\n",
              "      <td>Action,TV Movie,Science Fiction,Comedy,Adventu...</td>\n",
              "    </tr>\n",
              "    <tr>\n",
              "      <th>9997</th>\n",
              "      <td>13995</td>\n",
              "      <td>Captain America</td>\n",
              "      <td>Action,Science Fiction,War</td>\n",
              "      <td>During World War II, a brave, patriotic Americ...</td>\n",
              "      <td>1990</td>\n",
              "      <td>Action,Science Fiction,War During World War II...</td>\n",
              "    </tr>\n",
              "    <tr>\n",
              "      <th>9998</th>\n",
              "      <td>2312</td>\n",
              "      <td>In the Name of the King: A Dungeon Siege Tale</td>\n",
              "      <td>Adventure,Fantasy,Action,Drama</td>\n",
              "      <td>A man named Farmer sets out to rescue his kidn...</td>\n",
              "      <td>2007</td>\n",
              "      <td>Adventure,Fantasy,Action,Drama A man named Far...</td>\n",
              "    </tr>\n",
              "    <tr>\n",
              "      <th>9999</th>\n",
              "      <td>455957</td>\n",
              "      <td>Domino</td>\n",
              "      <td>Thriller,Action,Crime</td>\n",
              "      <td>Seeking justice for his partner’s murder by an...</td>\n",
              "      <td>2019</td>\n",
              "      <td>Thriller,Action,Crime Seeking justice for his ...</td>\n",
              "    </tr>\n",
              "  </tbody>\n",
              "</table>\n",
              "<p>10000 rows × 6 columns</p>\n",
              "</div>"
            ],
            "text/plain": [
              "          id                                          title  \\\n",
              "0        278                       The Shawshank Redemption   \n",
              "1      19404                    Dilwale Dulhania Le Jayenge   \n",
              "2        238                                  The Godfather   \n",
              "3        424                               Schindler's List   \n",
              "4        240                         The Godfather: Part II   \n",
              "...      ...                                            ...   \n",
              "9995   10196                             The Last Airbender   \n",
              "9996  331446                       Sharknado 3: Oh Hell No!   \n",
              "9997   13995                                Captain America   \n",
              "9998    2312  In the Name of the King: A Dungeon Siege Tale   \n",
              "9999  455957                                         Domino   \n",
              "\n",
              "                                                 genre  \\\n",
              "0                                          Drama,Crime   \n",
              "1                                 Comedy,Drama,Romance   \n",
              "2                                          Drama,Crime   \n",
              "3                                    Drama,History,War   \n",
              "4                                          Drama,Crime   \n",
              "...                                                ...   \n",
              "9995                          Action,Adventure,Fantasy   \n",
              "9996  Action,TV Movie,Science Fiction,Comedy,Adventure   \n",
              "9997                        Action,Science Fiction,War   \n",
              "9998                    Adventure,Fantasy,Action,Drama   \n",
              "9999                             Thriller,Action,Crime   \n",
              "\n",
              "                                               overview release_date  \\\n",
              "0     Framed in the 1940s for the double murder of h...         1994   \n",
              "1     Raj is a rich, carefree, happy-go-lucky second...         1995   \n",
              "2     Spanning the years 1945 to 1955, a chronicle o...         1972   \n",
              "3     The true story of how businessman Oskar Schind...         1993   \n",
              "4     In the continuing saga of the Corleone crime f...         1974   \n",
              "...                                                 ...          ...   \n",
              "9995  The story follows the adventures of Aang, a yo...         2010   \n",
              "9996  The sharks take bite out of the East Coast whe...         2015   \n",
              "9997  During World War II, a brave, patriotic Americ...         1990   \n",
              "9998  A man named Farmer sets out to rescue his kidn...         2007   \n",
              "9999  Seeking justice for his partner’s murder by an...         2019   \n",
              "\n",
              "                                                   tags  \n",
              "0     Drama,Crime Framed in the 1940s for the double...  \n",
              "1     Comedy,Drama,Romance Raj is a rich, carefree, ...  \n",
              "2     Drama,Crime Spanning the years 1945 to 1955, a...  \n",
              "3     Drama,History,War The true story of how busine...  \n",
              "4     Drama,Crime In the continuing saga of the Corl...  \n",
              "...                                                 ...  \n",
              "9995  Action,Adventure,Fantasy The story follows the...  \n",
              "9996  Action,TV Movie,Science Fiction,Comedy,Adventu...  \n",
              "9997  Action,Science Fiction,War During World War II...  \n",
              "9998  Adventure,Fantasy,Action,Drama A man named Far...  \n",
              "9999  Thriller,Action,Crime Seeking justice for his ...  \n",
              "\n",
              "[10000 rows x 6 columns]"
            ]
          },
          "execution_count": 16,
          "metadata": {},
          "output_type": "execute_result"
        }
      ],
      "source": [
        "movies"
      ]
    },
    {
      "cell_type": "code",
      "execution_count": 17,
      "metadata": {
        "id": "bCiZP6dWwRjq"
      },
      "outputs": [],
      "source": [
        "movies=movies.drop(columns=['overview'])"
      ]
    },
    {
      "cell_type": "code",
      "execution_count": 18,
      "metadata": {
        "colab": {
          "base_uri": "https://localhost:8080/",
          "height": 423
        },
        "id": "hwil5NWc6Dpt",
        "outputId": "3992200c-0959-400f-ffa5-f13d460024c1"
      },
      "outputs": [
        {
          "data": {
            "text/html": [
              "<div>\n",
              "<style scoped>\n",
              "    .dataframe tbody tr th:only-of-type {\n",
              "        vertical-align: middle;\n",
              "    }\n",
              "\n",
              "    .dataframe tbody tr th {\n",
              "        vertical-align: top;\n",
              "    }\n",
              "\n",
              "    .dataframe thead th {\n",
              "        text-align: right;\n",
              "    }\n",
              "</style>\n",
              "<table border=\"1\" class=\"dataframe\">\n",
              "  <thead>\n",
              "    <tr style=\"text-align: right;\">\n",
              "      <th></th>\n",
              "      <th>id</th>\n",
              "      <th>title</th>\n",
              "      <th>genre</th>\n",
              "      <th>release_date</th>\n",
              "      <th>tags</th>\n",
              "    </tr>\n",
              "  </thead>\n",
              "  <tbody>\n",
              "    <tr>\n",
              "      <th>0</th>\n",
              "      <td>278</td>\n",
              "      <td>The Shawshank Redemption</td>\n",
              "      <td>Drama,Crime</td>\n",
              "      <td>1994</td>\n",
              "      <td>Drama,Crime Framed in the 1940s for the double...</td>\n",
              "    </tr>\n",
              "    <tr>\n",
              "      <th>1</th>\n",
              "      <td>19404</td>\n",
              "      <td>Dilwale Dulhania Le Jayenge</td>\n",
              "      <td>Comedy,Drama,Romance</td>\n",
              "      <td>1995</td>\n",
              "      <td>Comedy,Drama,Romance Raj is a rich, carefree, ...</td>\n",
              "    </tr>\n",
              "    <tr>\n",
              "      <th>2</th>\n",
              "      <td>238</td>\n",
              "      <td>The Godfather</td>\n",
              "      <td>Drama,Crime</td>\n",
              "      <td>1972</td>\n",
              "      <td>Drama,Crime Spanning the years 1945 to 1955, a...</td>\n",
              "    </tr>\n",
              "    <tr>\n",
              "      <th>3</th>\n",
              "      <td>424</td>\n",
              "      <td>Schindler's List</td>\n",
              "      <td>Drama,History,War</td>\n",
              "      <td>1993</td>\n",
              "      <td>Drama,History,War The true story of how busine...</td>\n",
              "    </tr>\n",
              "    <tr>\n",
              "      <th>4</th>\n",
              "      <td>240</td>\n",
              "      <td>The Godfather: Part II</td>\n",
              "      <td>Drama,Crime</td>\n",
              "      <td>1974</td>\n",
              "      <td>Drama,Crime In the continuing saga of the Corl...</td>\n",
              "    </tr>\n",
              "    <tr>\n",
              "      <th>...</th>\n",
              "      <td>...</td>\n",
              "      <td>...</td>\n",
              "      <td>...</td>\n",
              "      <td>...</td>\n",
              "      <td>...</td>\n",
              "    </tr>\n",
              "    <tr>\n",
              "      <th>9995</th>\n",
              "      <td>10196</td>\n",
              "      <td>The Last Airbender</td>\n",
              "      <td>Action,Adventure,Fantasy</td>\n",
              "      <td>2010</td>\n",
              "      <td>Action,Adventure,Fantasy The story follows the...</td>\n",
              "    </tr>\n",
              "    <tr>\n",
              "      <th>9996</th>\n",
              "      <td>331446</td>\n",
              "      <td>Sharknado 3: Oh Hell No!</td>\n",
              "      <td>Action,TV Movie,Science Fiction,Comedy,Adventure</td>\n",
              "      <td>2015</td>\n",
              "      <td>Action,TV Movie,Science Fiction,Comedy,Adventu...</td>\n",
              "    </tr>\n",
              "    <tr>\n",
              "      <th>9997</th>\n",
              "      <td>13995</td>\n",
              "      <td>Captain America</td>\n",
              "      <td>Action,Science Fiction,War</td>\n",
              "      <td>1990</td>\n",
              "      <td>Action,Science Fiction,War During World War II...</td>\n",
              "    </tr>\n",
              "    <tr>\n",
              "      <th>9998</th>\n",
              "      <td>2312</td>\n",
              "      <td>In the Name of the King: A Dungeon Siege Tale</td>\n",
              "      <td>Adventure,Fantasy,Action,Drama</td>\n",
              "      <td>2007</td>\n",
              "      <td>Adventure,Fantasy,Action,Drama A man named Far...</td>\n",
              "    </tr>\n",
              "    <tr>\n",
              "      <th>9999</th>\n",
              "      <td>455957</td>\n",
              "      <td>Domino</td>\n",
              "      <td>Thriller,Action,Crime</td>\n",
              "      <td>2019</td>\n",
              "      <td>Thriller,Action,Crime Seeking justice for his ...</td>\n",
              "    </tr>\n",
              "  </tbody>\n",
              "</table>\n",
              "<p>10000 rows × 5 columns</p>\n",
              "</div>"
            ],
            "text/plain": [
              "          id                                          title  \\\n",
              "0        278                       The Shawshank Redemption   \n",
              "1      19404                    Dilwale Dulhania Le Jayenge   \n",
              "2        238                                  The Godfather   \n",
              "3        424                               Schindler's List   \n",
              "4        240                         The Godfather: Part II   \n",
              "...      ...                                            ...   \n",
              "9995   10196                             The Last Airbender   \n",
              "9996  331446                       Sharknado 3: Oh Hell No!   \n",
              "9997   13995                                Captain America   \n",
              "9998    2312  In the Name of the King: A Dungeon Siege Tale   \n",
              "9999  455957                                         Domino   \n",
              "\n",
              "                                                 genre release_date  \\\n",
              "0                                          Drama,Crime         1994   \n",
              "1                                 Comedy,Drama,Romance         1995   \n",
              "2                                          Drama,Crime         1972   \n",
              "3                                    Drama,History,War         1993   \n",
              "4                                          Drama,Crime         1974   \n",
              "...                                                ...          ...   \n",
              "9995                          Action,Adventure,Fantasy         2010   \n",
              "9996  Action,TV Movie,Science Fiction,Comedy,Adventure         2015   \n",
              "9997                        Action,Science Fiction,War         1990   \n",
              "9998                    Adventure,Fantasy,Action,Drama         2007   \n",
              "9999                             Thriller,Action,Crime         2019   \n",
              "\n",
              "                                                   tags  \n",
              "0     Drama,Crime Framed in the 1940s for the double...  \n",
              "1     Comedy,Drama,Romance Raj is a rich, carefree, ...  \n",
              "2     Drama,Crime Spanning the years 1945 to 1955, a...  \n",
              "3     Drama,History,War The true story of how busine...  \n",
              "4     Drama,Crime In the continuing saga of the Corl...  \n",
              "...                                                 ...  \n",
              "9995  Action,Adventure,Fantasy The story follows the...  \n",
              "9996  Action,TV Movie,Science Fiction,Comedy,Adventu...  \n",
              "9997  Action,Science Fiction,War During World War II...  \n",
              "9998  Adventure,Fantasy,Action,Drama A man named Far...  \n",
              "9999  Thriller,Action,Crime Seeking justice for his ...  \n",
              "\n",
              "[10000 rows x 5 columns]"
            ]
          },
          "execution_count": 18,
          "metadata": {},
          "output_type": "execute_result"
        }
      ],
      "source": [
        "movies"
      ]
    },
    {
      "cell_type": "code",
      "execution_count": 19,
      "metadata": {
        "colab": {
          "base_uri": "https://localhost:8080/"
        },
        "id": "nr0b1zBfwlbg",
        "outputId": "8283f749-463a-4ac6-b422-7c09b6d7a54a"
      },
      "outputs": [
        {
          "data": {
            "text/plain": [
              "(10000, 5)"
            ]
          },
          "execution_count": 19,
          "metadata": {},
          "output_type": "execute_result"
        }
      ],
      "source": [
        "movies.shape"
      ]
    },
    {
      "cell_type": "code",
      "execution_count": 20,
      "metadata": {
        "id": "D-lXZT2qgmiB"
      },
      "outputs": [],
      "source": [
        "movies['tags'] = movies['tags'].str.lower().replace('[.,'':!-]', ' ', regex=True)"
      ]
    },
    {
      "cell_type": "code",
      "execution_count": 21,
      "metadata": {
        "id": "l2CTuNwzUJiT"
      },
      "outputs": [],
      "source": [
        "movies['title'] = movies['title'].replace('[.,'':!-]', ' ', regex=True)"
      ]
    },
    {
      "cell_type": "code",
      "execution_count": 22,
      "metadata": {
        "id": "Twxd6QSKIe3d"
      },
      "outputs": [],
      "source": [
        "movies['genre'] = movies['genre'].str.lower().replace('[.,'':!-]', ' ', regex=True)"
      ]
    },
    {
      "cell_type": "code",
      "execution_count": 23,
      "metadata": {
        "colab": {
          "base_uri": "https://localhost:8080/",
          "height": 423
        },
        "id": "6O-yRqqHS7Gm",
        "outputId": "5f9b1297-3bd6-413f-a874-c89c0f75826b"
      },
      "outputs": [
        {
          "data": {
            "text/html": [
              "<div>\n",
              "<style scoped>\n",
              "    .dataframe tbody tr th:only-of-type {\n",
              "        vertical-align: middle;\n",
              "    }\n",
              "\n",
              "    .dataframe tbody tr th {\n",
              "        vertical-align: top;\n",
              "    }\n",
              "\n",
              "    .dataframe thead th {\n",
              "        text-align: right;\n",
              "    }\n",
              "</style>\n",
              "<table border=\"1\" class=\"dataframe\">\n",
              "  <thead>\n",
              "    <tr style=\"text-align: right;\">\n",
              "      <th></th>\n",
              "      <th>id</th>\n",
              "      <th>title</th>\n",
              "      <th>genre</th>\n",
              "      <th>release_date</th>\n",
              "      <th>tags</th>\n",
              "    </tr>\n",
              "  </thead>\n",
              "  <tbody>\n",
              "    <tr>\n",
              "      <th>0</th>\n",
              "      <td>278</td>\n",
              "      <td>The Shawshank Redemption</td>\n",
              "      <td>drama crime</td>\n",
              "      <td>1994</td>\n",
              "      <td>drama crime framed in the 1940s for the double...</td>\n",
              "    </tr>\n",
              "    <tr>\n",
              "      <th>1</th>\n",
              "      <td>19404</td>\n",
              "      <td>Dilwale Dulhania Le Jayenge</td>\n",
              "      <td>comedy drama romance</td>\n",
              "      <td>1995</td>\n",
              "      <td>comedy drama romance raj is a rich  carefree  ...</td>\n",
              "    </tr>\n",
              "    <tr>\n",
              "      <th>2</th>\n",
              "      <td>238</td>\n",
              "      <td>The Godfather</td>\n",
              "      <td>drama crime</td>\n",
              "      <td>1972</td>\n",
              "      <td>drama crime spanning the years 1945 to 1955  a...</td>\n",
              "    </tr>\n",
              "    <tr>\n",
              "      <th>3</th>\n",
              "      <td>424</td>\n",
              "      <td>Schindler's List</td>\n",
              "      <td>drama history war</td>\n",
              "      <td>1993</td>\n",
              "      <td>drama history war the true story of how busine...</td>\n",
              "    </tr>\n",
              "    <tr>\n",
              "      <th>4</th>\n",
              "      <td>240</td>\n",
              "      <td>The Godfather  Part II</td>\n",
              "      <td>drama crime</td>\n",
              "      <td>1974</td>\n",
              "      <td>drama crime in the continuing saga of the corl...</td>\n",
              "    </tr>\n",
              "    <tr>\n",
              "      <th>...</th>\n",
              "      <td>...</td>\n",
              "      <td>...</td>\n",
              "      <td>...</td>\n",
              "      <td>...</td>\n",
              "      <td>...</td>\n",
              "    </tr>\n",
              "    <tr>\n",
              "      <th>9995</th>\n",
              "      <td>10196</td>\n",
              "      <td>The Last Airbender</td>\n",
              "      <td>action adventure fantasy</td>\n",
              "      <td>2010</td>\n",
              "      <td>action adventure fantasy the story follows the...</td>\n",
              "    </tr>\n",
              "    <tr>\n",
              "      <th>9996</th>\n",
              "      <td>331446</td>\n",
              "      <td>Sharknado 3  Oh Hell No</td>\n",
              "      <td>action tv movie science fiction comedy adventure</td>\n",
              "      <td>2015</td>\n",
              "      <td>action tv movie science fiction comedy adventu...</td>\n",
              "    </tr>\n",
              "    <tr>\n",
              "      <th>9997</th>\n",
              "      <td>13995</td>\n",
              "      <td>Captain America</td>\n",
              "      <td>action science fiction war</td>\n",
              "      <td>1990</td>\n",
              "      <td>action science fiction war during world war ii...</td>\n",
              "    </tr>\n",
              "    <tr>\n",
              "      <th>9998</th>\n",
              "      <td>2312</td>\n",
              "      <td>In the Name of the King  A Dungeon Siege Tale</td>\n",
              "      <td>adventure fantasy action drama</td>\n",
              "      <td>2007</td>\n",
              "      <td>adventure fantasy action drama a man named far...</td>\n",
              "    </tr>\n",
              "    <tr>\n",
              "      <th>9999</th>\n",
              "      <td>455957</td>\n",
              "      <td>Domino</td>\n",
              "      <td>thriller action crime</td>\n",
              "      <td>2019</td>\n",
              "      <td>thriller action crime seeking justice for his ...</td>\n",
              "    </tr>\n",
              "  </tbody>\n",
              "</table>\n",
              "<p>10000 rows × 5 columns</p>\n",
              "</div>"
            ],
            "text/plain": [
              "          id                                          title  \\\n",
              "0        278                       The Shawshank Redemption   \n",
              "1      19404                    Dilwale Dulhania Le Jayenge   \n",
              "2        238                                  The Godfather   \n",
              "3        424                               Schindler's List   \n",
              "4        240                         The Godfather  Part II   \n",
              "...      ...                                            ...   \n",
              "9995   10196                             The Last Airbender   \n",
              "9996  331446                       Sharknado 3  Oh Hell No    \n",
              "9997   13995                                Captain America   \n",
              "9998    2312  In the Name of the King  A Dungeon Siege Tale   \n",
              "9999  455957                                         Domino   \n",
              "\n",
              "                                                 genre release_date  \\\n",
              "0                                          drama crime         1994   \n",
              "1                                 comedy drama romance         1995   \n",
              "2                                          drama crime         1972   \n",
              "3                                    drama history war         1993   \n",
              "4                                          drama crime         1974   \n",
              "...                                                ...          ...   \n",
              "9995                          action adventure fantasy         2010   \n",
              "9996  action tv movie science fiction comedy adventure         2015   \n",
              "9997                        action science fiction war         1990   \n",
              "9998                    adventure fantasy action drama         2007   \n",
              "9999                             thriller action crime         2019   \n",
              "\n",
              "                                                   tags  \n",
              "0     drama crime framed in the 1940s for the double...  \n",
              "1     comedy drama romance raj is a rich  carefree  ...  \n",
              "2     drama crime spanning the years 1945 to 1955  a...  \n",
              "3     drama history war the true story of how busine...  \n",
              "4     drama crime in the continuing saga of the corl...  \n",
              "...                                                 ...  \n",
              "9995  action adventure fantasy the story follows the...  \n",
              "9996  action tv movie science fiction comedy adventu...  \n",
              "9997  action science fiction war during world war ii...  \n",
              "9998  adventure fantasy action drama a man named far...  \n",
              "9999  thriller action crime seeking justice for his ...  \n",
              "\n",
              "[10000 rows x 5 columns]"
            ]
          },
          "execution_count": 23,
          "metadata": {},
          "output_type": "execute_result"
        }
      ],
      "source": [
        "movies"
      ]
    },
    {
      "cell_type": "code",
      "execution_count": 24,
      "metadata": {
        "id": "87uKh6m3jmGN"
      },
      "outputs": [],
      "source": [
        "vectorizer= TfidfVectorizer(max_features=10000,)"
      ]
    },
    {
      "cell_type": "code",
      "execution_count": 25,
      "metadata": {
        "id": "W7DJbtDOjtmC"
      },
      "outputs": [],
      "source": [
        "vector=vectorizer.fit_transform(movies['tags'])"
      ]
    },
    {
      "cell_type": "code",
      "execution_count": 26,
      "metadata": {
        "colab": {
          "base_uri": "https://localhost:8080/"
        },
        "id": "NUQGD5B4j1Yf",
        "outputId": "bc9464b9-0885-49fb-a7a3-48ac3d43f638"
      },
      "outputs": [
        {
          "data": {
            "text/plain": [
              "(10000, 10000)"
            ]
          },
          "execution_count": 26,
          "metadata": {},
          "output_type": "execute_result"
        }
      ],
      "source": [
        "vector.shape"
      ]
    },
    {
      "cell_type": "code",
      "execution_count": 27,
      "metadata": {
        "id": "f0hw9XxvkhZW"
      },
      "outputs": [],
      "source": [
        "similarity = cosine_similarity(vector)"
      ]
    },
    {
      "cell_type": "code",
      "execution_count": 28,
      "metadata": {
        "id": "Rv7cRj7LI8fS"
      },
      "outputs": [],
      "source": [
        "def recommend_by_title(movie_title, top_n=10):\n",
        "    movie_title=movie_title.lower()\n",
        "    index = movies[movies['title'].str.lower()== movie_title].index[0]\n",
        "    distance = sorted(list(enumerate(similarity[index])), reverse=True, key=lambda vector: vector[1])\n",
        "    for i in distance[1:top_n+1]:  \n",
        "        print(movies.iloc[i[0]].title)"
      ]
    },
    {
      "cell_type": "code",
      "execution_count": 66,
      "metadata": {
        "colab": {
          "base_uri": "https://localhost:8080/"
        },
        "id": "JqHmnwGhI8mh",
        "outputId": "4596fb60-5695-4f51-f7ea-e1891b910c92"
      },
      "outputs": [
        {
          "name": "stdout",
          "output_type": "stream",
          "text": [
            "Spider Man  Into the Spider Verse\n",
            "Spider Man 3\n",
            "Arachnophobia\n",
            "Spider Man  Homecoming\n",
            "Spider Man 2\n",
            "Spider Man  No Way Home\n",
            "The Amazing Spider Man\n",
            "The Amazing Spider Man 2\n",
            "Minnal Murali\n",
            "Jurassic Hunt\n"
          ]
        }
      ],
      "source": [
        "recommend_by_title(\"Spider Man\")"
      ]
    },
    {
      "cell_type": "code",
      "execution_count": 67,
      "metadata": {
        "id": "yyWHt02vI8qk"
      },
      "outputs": [],
      "source": [
        "def recommend_by_year(release_year, top_n=10):\n",
        "    movies_in_year = movies[movies['release_date'] == str(release_year)].head(top_n)\n",
        "\n",
        "    if not movies_in_year.empty:\n",
        "        for index, row in movies_in_year.iterrows():\n",
        "            print(row['title'])\n",
        "    else:\n",
        "        print(f\"No movies found for the year {release_year}\")\n"
      ]
    },
    {
      "cell_type": "code",
      "execution_count": 68,
      "metadata": {
        "colab": {
          "base_uri": "https://localhost:8080/"
        },
        "id": "uFFKGLDwI8uP",
        "outputId": "b3ced81b-4c84-4991-dee2-45f3416522ac"
      },
      "outputs": [
        {
          "name": "stdout",
          "output_type": "stream",
          "text": [
            "GoodFellas\n",
            "Dances with Wolves\n",
            "Awakenings\n",
            "Misery\n",
            "Edward Scissorhands\n",
            "Dreams\n",
            "Miller's Crossing\n",
            "A Grand Day Out\n",
            "Dragon Ball Z  Bardock   The Father of Goku\n",
            "Back to the Future Part III\n"
          ]
        }
      ],
      "source": [
        "recommend_by_year(1990)"
      ]
    },
    {
      "cell_type": "code",
      "execution_count": 69,
      "metadata": {
        "id": "QNmSTzPeSTL5"
      },
      "outputs": [],
      "source": [
        "def recommend_by_genre(input_genre, top_n=10):\n",
        "    input_genre = input_genre.lower()\n",
        "    \n",
        "    movies_with_genre = movies[movies['tags'].str.contains(input_genre)].head(top_n)\n",
        "    if not movies_with_genre.empty:\n",
        "        for index, row in movies_with_genre.iterrows():\n",
        "            print(row['title'])\n",
        "    else:\n",
        "        print(f\"No movies found for the genre {input_genre}\")\n"
      ]
    },
    {
      "cell_type": "code",
      "execution_count": 70,
      "metadata": {
        "colab": {
          "base_uri": "https://localhost:8080/"
        },
        "id": "WGpBOx2JSVi6",
        "outputId": "c79c7bc3-e56a-42ad-f529-8095458cb4f4"
      },
      "outputs": [
        {
          "name": "stdout",
          "output_type": "stream",
          "text": [
            "Dilwale Dulhania Le Jayenge\n",
            "Your Eyes Tell\n",
            "Dou kyu sei – Classmates\n",
            "Your Name \n",
            "Gabriel's Inferno\n",
            "Gabriel's Inferno  Part II\n",
            "Gabriel's Inferno  Part III\n",
            "Forrest Gump\n",
            "Cinema Paradiso\n",
            "Violet Evergarden  The Movie\n"
          ]
        }
      ],
      "source": [
        "recommend_by_genre(\"romance\")"
      ]
    },
    {
      "cell_type": "code",
      "execution_count": 71,
      "metadata": {
        "id": "j8xFpCWGI8xZ"
      },
      "outputs": [],
      "source": [
        "def recommend_movies(input_value, top_n=10):\n",
        "    \n",
        "    if str(input_value).lower() in movies['genre'].str.lower().unique():\n",
        "       \n",
        "        recommend_by_genre(str(input_value), top_n)\n",
        "    else:\n",
        "        try:\n",
        "            \n",
        "            year = int(input_value)\n",
        "            recommend_by_year(year, top_n)\n",
        "        except ValueError:\n",
        "           \n",
        "            recommend_by_title(str(input_value), top_n)\n",
        "\n"
      ]
    },
    {
      "cell_type": "code",
      "execution_count": 72,
      "metadata": {
        "colab": {
          "base_uri": "https://localhost:8080/"
        },
        "id": "LJeMgFbTI80M",
        "outputId": "1bfefff9-2666-4075-ff96-cf4c84541d02"
      },
      "outputs": [
        {
          "name": "stdout",
          "output_type": "stream",
          "text": [
            "GoodFellas\n",
            "Dances with Wolves\n",
            "Awakenings\n",
            "Misery\n",
            "Edward Scissorhands\n",
            "Dreams\n",
            "Miller's Crossing\n",
            "A Grand Day Out\n",
            "Dragon Ball Z  Bardock   The Father of Goku\n",
            "Back to the Future Part III\n"
          ]
        }
      ],
      "source": [
        "recommend_movies(1990)"
      ]
    },
    {
      "cell_type": "code",
      "execution_count": 73,
      "metadata": {
        "colab": {
          "base_uri": "https://localhost:8080/"
        },
        "id": "b9firgx8I83F",
        "outputId": "27210b4b-de49-4651-ace3-60f5bb49423b"
      },
      "outputs": [
        {
          "name": "stdout",
          "output_type": "stream",
          "text": [
            "Spider Man  Into the Spider Verse\n",
            "Spider Man 3\n",
            "Arachnophobia\n",
            "Spider Man  Homecoming\n",
            "Spider Man 2\n",
            "Spider Man  No Way Home\n",
            "The Amazing Spider Man\n",
            "The Amazing Spider Man 2\n",
            "Minnal Murali\n",
            "Jurassic Hunt\n"
          ]
        }
      ],
      "source": [
        "recommend_movies(\"spider man\")"
      ]
    },
    {
      "cell_type": "code",
      "execution_count": 74,
      "metadata": {
        "colab": {
          "base_uri": "https://localhost:8080/"
        },
        "id": "DIOjTZueT4gT",
        "outputId": "fa19827e-9b6f-4b72-f09a-abab714b43a2"
      },
      "outputs": [
        {
          "name": "stdout",
          "output_type": "stream",
          "text": [
            "The Shawshank Redemption\n",
            "The Godfather\n",
            "The Godfather  Part II\n",
            "The Green Mile\n",
            "GoodFellas\n",
            "Once Upon a Time in America\n",
            "City of God\n",
            "The Usual Suspects\n",
            "Bad Genius\n",
            "Trainspotting\n"
          ]
        }
      ],
      "source": [
        "recommend_movies(\"drama crime\")"
      ]
    },
    {
      "cell_type": "code",
      "execution_count": 29,
      "metadata": {
        "id": "4lsDePHWl8yk"
      },
      "outputs": [],
      "source": [
        "pickle.dump(movies, open('movies_list.pkl', 'wb'))"
      ]
    },
    {
      "cell_type": "code",
      "execution_count": 30,
      "metadata": {
        "id": "z0aBhJqSmW7N"
      },
      "outputs": [],
      "source": [
        "pickle.dump(similarity, open('similarity.pkl', 'wb'))"
      ]
    },
    {
      "cell_type": "code",
      "execution_count": null,
      "metadata": {
        "id": "Pb5IxpS5muxQ"
      },
      "outputs": [],
      "source": []
    }
  ],
  "metadata": {
    "colab": {
      "provenance": []
    },
    "kernelspec": {
      "display_name": "Python 3",
      "name": "python3"
    },
    "language_info": {
      "codemirror_mode": {
        "name": "ipython",
        "version": 3
      },
      "file_extension": ".py",
      "mimetype": "text/x-python",
      "name": "python",
      "nbconvert_exporter": "python",
      "pygments_lexer": "ipython3",
      "version": "3.11.0"
    }
  },
  "nbformat": 4,
  "nbformat_minor": 0
}
